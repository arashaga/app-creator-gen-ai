{
 "cells": [
  {
   "cell_type": "code",
   "execution_count": 1,
   "metadata": {},
   "outputs": [],
   "source": [
    "import os\n",
    "import subprocess\n",
    "import webbrowser\n",
    "import time\n"
   ]
  },
  {
   "cell_type": "code",
   "execution_count": 3,
   "metadata": {},
   "outputs": [
    {
     "name": "stdout",
     "output_type": "stream",
     "text": [
      "Streamlit app is running at http://localhost:8080\n"
     ]
    }
   ],
   "source": [
    "\n",
    "# Step 1: Define the directory containing your Streamlit app\n",
    "code_dir = 'code'\n",
    "\n",
    "# Step 2: Create a Dockerfile in the code directory\n",
    "dockerfile_content = \"\"\"\n",
    "# Use an official Python runtime as a parent image\n",
    "FROM python:3.11-slim\n",
    "\n",
    "# Set the working directory\n",
    "WORKDIR /app\n",
    "\n",
    "# Copy the current directory contents into the container at /app\n",
    "COPY . /app\n",
    "\n",
    "# Install any needed packages specified in requirements.txt\n",
    "RUN pip install --no-cache-dir -r requirements.txt\n",
    "\n",
    "# Expose port 8080 to the outside world\n",
    "EXPOSE 8080\n",
    "\n",
    "# Run streamlit app when the container launches\n",
    "CMD [\"streamlit\", \"run\", \"app.py\", \"--server.port=8080\", \"--server.address=0.0.0.0\", \"--server.enableCORS=false\", \"--server.enableXsrfProtection=false\"]\n",
    "\"\"\"\n",
    "\n",
    "dockerfile_path = os.path.join(code_dir, 'Dockerfile')\n",
    "\n",
    "with open(dockerfile_path, 'w') as dockerfile:\n",
    "    dockerfile.write(dockerfile_content)\n",
    "\n",
    "# Step 3: Create a requirements.txt file (optional if not present)\n",
    "# You can manually create a requirements.txt with the necessary packages, or generate it automatically.\n",
    "requirements_content = \"\"\"\n",
    "streamlit\n",
    "\"\"\"\n",
    "\n",
    "requirements_path = os.path.join(code_dir, 'requirements.txt')\n",
    "\n",
    "with open(requirements_path, 'w') as requirements_file:\n",
    "    requirements_file.write(requirements_content)\n",
    "\n",
    "# Step 4: Build the Docker image\n",
    "image_name = 'streamlit_app_image'\n",
    "build_command = f\"docker build -t {image_name} {code_dir}\"\n",
    "subprocess.run(build_command, shell=True, check=True)\n",
    "\n",
    "# Step 5: Run the Docker container with the exposed port\n",
    "container_name = 'streamlit_app_container'\n",
    "run_command = f\"docker run -d -p 8080:8080 --name {container_name} {image_name}\"\n",
    "subprocess.run(run_command, shell=True, check=True)\n",
    "\n",
    "# Step 6: Automatically open a browser to access the app\n",
    "time.sleep(2)  # Wait a bit for the app to start\n",
    "webbrowser.open('http://localhost:8080')\n",
    "\n",
    "print(\"Streamlit app is running at http://localhost:8080\")\n"
   ]
  },
  {
   "cell_type": "code",
   "execution_count": null,
   "metadata": {},
   "outputs": [],
   "source": []
  }
 ],
 "metadata": {
  "kernelspec": {
   "display_name": "gen-ai",
   "language": "python",
   "name": "python3"
  },
  "language_info": {
   "codemirror_mode": {
    "name": "ipython",
    "version": 3
   },
   "file_extension": ".py",
   "mimetype": "text/x-python",
   "name": "python",
   "nbconvert_exporter": "python",
   "pygments_lexer": "ipython3",
   "version": "3.11.7"
  }
 },
 "nbformat": 4,
 "nbformat_minor": 2
}
